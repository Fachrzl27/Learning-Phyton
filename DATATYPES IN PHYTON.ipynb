{
 "cells": [
  {
   "cell_type": "markdown",
   "metadata": {},
   "source": [
    "# INRODUCING JUPYTER NOTEBOOK"
   ]
  },
  {
   "cell_type": "code",
   "execution_count": 4,
   "metadata": {
    "scrolled": true
   },
   "outputs": [
    {
     "name": "stdout",
     "output_type": "stream",
     "text": [
      "enter text here: Hi\n",
      "heri enter, Hi\n"
     ]
    }
   ],
   "source": [
    "mymsg = input(\"enter text here: \")\n",
    "print(\"heri enter,\", mymsg)"
   ]
  },
  {
   "cell_type": "code",
   "execution_count": 5,
   "metadata": {},
   "outputs": [
    {
     "name": "stdout",
     "output_type": "stream",
     "text": [
      "number2\n"
     ]
    },
    {
     "data": {
      "text/plain": [
       "'2'"
      ]
     },
     "execution_count": 5,
     "metadata": {},
     "output_type": "execute_result"
    }
   ],
   "source": [
    "#input ini untuk masukin \"input\" sesuatu yang mau dimasukin\n",
    "input(\"number\")\n",
    "\n",
    "\n",
    "\n",
    "\n",
    "\n",
    "\n",
    "\n",
    "HELOOO\n",
    "\n",
    "\n",
    "\n",
    "\n",
    "HELOOO\n",
    "\n",
    "\n",
    "\n",
    "\n"
   ]
  },
  {
   "cell_type": "markdown",
   "metadata": {},
   "source": [
    "#### jkjkjk\n",
    "# kasm,s"
   ]
  },
  {
   "cell_type": "markdown",
   "metadata": {},
   "source": [
    "HELOOO\n"
   ]
  },
  {
   "cell_type": "markdown",
   "metadata": {},
   "source": [
    "> hei\n",
    ">> hei\n",
    ">>>hey"
   ]
  },
  {
   "cell_type": "code",
   "execution_count": null,
   "metadata": {},
   "outputs": [],
   "source": []
  },
  {
   "cell_type": "markdown",
   "metadata": {},
   "source": [
    "## DATATYPES"
   ]
  },
  {
   "cell_type": "code",
   "execution_count": 2,
   "metadata": {},
   "outputs": [
    {
     "name": "stdout",
     "output_type": "stream",
     "text": [
      "!!! HELLO WORLD !!!\n"
     ]
    }
   ],
   "source": [
    "print (\"!!! HELLO WORLD !!!\")"
   ]
  },
  {
   "cell_type": "code",
   "execution_count": 6,
   "metadata": {},
   "outputs": [
    {
     "name": "stdout",
     "output_type": "stream",
     "text": [
      "HELLO \n",
      "WORLD\n"
     ]
    }
   ],
   "source": [
    "print (\"HELLO \\nWORLD\")"
   ]
  },
  {
   "cell_type": "code",
   "execution_count": 10,
   "metadata": {},
   "outputs": [
    {
     "name": "stdout",
     "output_type": "stream",
     "text": [
      "HOME\n"
     ]
    }
   ],
   "source": [
    "addres = \"HOME\"\n",
    "print(addres)"
   ]
  },
  {
   "cell_type": "code",
   "execution_count": 13,
   "metadata": {
    "scrolled": false
   },
   "outputs": [
    {
     "name": "stdout",
     "output_type": "stream",
     "text": [
      "59.5\n"
     ]
    }
   ],
   "source": [
    "print (2*5+3/4*66)"
   ]
  },
  {
   "cell_type": "code",
   "execution_count": 19,
   "metadata": {
    "scrolled": true
   },
   "outputs": [
    {
     "data": {
      "text/plain": [
       "str"
      ]
     },
     "execution_count": 19,
     "metadata": {},
     "output_type": "execute_result"
    }
   ],
   "source": [
    "type(addres)"
   ]
  },
  {
   "cell_type": "code",
   "execution_count": 20,
   "metadata": {
    "scrolled": true
   },
   "outputs": [
    {
     "name": "stdout",
     "output_type": "stream",
     "text": [
      "10\n",
      "2\n"
     ]
    },
    {
     "data": {
      "text/plain": [
       "int"
      ]
     },
     "execution_count": 20,
     "metadata": {},
     "output_type": "execute_result"
    }
   ],
   "source": [
    "# numeric data types\n",
    "\n",
    "num1 = 6\n",
    "num2 = 4\n",
    "\n",
    "print (num1 + num2)\n",
    "print (num1 % num2)\n",
    "type(num1)\n"
   ]
  },
  {
   "cell_type": "code",
   "execution_count": 24,
   "metadata": {
    "scrolled": true
   },
   "outputs": [
    {
     "name": "stdout",
     "output_type": "stream",
     "text": [
      "10\n",
      "8\n"
     ]
    }
   ],
   "source": [
    "# increment and decrement\n",
    "num = 9\n",
    "num += 1\n",
    "print(num)\n",
    "\n",
    "decrmnt = 9\n",
    "decrmnt -= 1\n",
    "print(decrmnt)"
   ]
  },
  {
   "cell_type": "code",
   "execution_count": 30,
   "metadata": {
    "scrolled": true
   },
   "outputs": [
    {
     "name": "stdout",
     "output_type": "stream",
     "text": [
      "20.5\n"
     ]
    },
    {
     "data": {
      "text/plain": [
       "float"
      ]
     },
     "execution_count": 30,
     "metadata": {},
     "output_type": "execute_result"
    }
   ],
   "source": [
    "# float\n",
    "\n",
    "num=20.5\n",
    "print(num)\n",
    "type(num)"
   ]
  },
  {
   "cell_type": "code",
   "execution_count": 32,
   "metadata": {
    "scrolled": true
   },
   "outputs": [
    {
     "name": "stdout",
     "output_type": "stream",
     "text": [
      "(3+4j)\n"
     ]
    },
    {
     "data": {
      "text/plain": [
       "complex"
      ]
     },
     "execution_count": 32,
     "metadata": {},
     "output_type": "execute_result"
    }
   ],
   "source": [
    "# complex numbers\n",
    "num = 3 + 4j\n",
    "print(num)\n",
    "type(num)"
   ]
  },
  {
   "cell_type": "code",
   "execution_count": 50,
   "metadata": {},
   "outputs": [
    {
     "name": "stdout",
     "output_type": "stream",
     "text": [
      "True\n",
      "False\n",
      "True\n",
      "True\n"
     ]
    }
   ],
   "source": [
    "# logical\n",
    "\n",
    "print(10<11)\n",
    "print(True and False) #liked positive * negative you will find false\n",
    "print(True or False)\n",
    "\n",
    "#a = \"dear\"\n",
    "#b = \"hey\"\n",
    "print(a!=b) #you can give # at others statement and it will to"
   ]
  },
  {
   "cell_type": "code",
   "execution_count": 52,
   "metadata": {
    "scrolled": true
   },
   "outputs": [
    {
     "name": "stdout",
     "output_type": "stream",
     "text": [
      "True\n",
      "True\n"
     ]
    }
   ],
   "source": [
    "print(True and not False)\n",
    "print(True or not False)"
   ]
  },
  {
   "cell_type": "code",
   "execution_count": 53,
   "metadata": {
    "scrolled": true
   },
   "outputs": [
    {
     "name": "stdout",
     "output_type": "stream",
     "text": [
      "I AM LOWER CASED NOW\n",
      "i am upper cased now\n"
     ]
    }
   ],
   "source": [
    "# text conversion\n",
    "letters = \"i am lower cased now\"\n",
    "print(letters.upper())\n",
    "\n",
    "upprletters = \"I AM UPPER CASED NOW\"\n",
    "print(upprletters.lower())"
   ]
  },
  {
   "cell_type": "markdown",
   "metadata": {},
   "source": [
    "33.57 data types"
   ]
  },
  {
   "cell_type": "code",
   "execution_count": 4,
   "metadata": {},
   "outputs": [
    {
     "name": "stdout",
     "output_type": "stream",
     "text": [
      "    there is space in beginning\n",
      "there is space in beginning\n"
     ]
    }
   ],
   "source": [
    "strip_sentence = \"  there is space in beginning\"\n",
    "print(strip_sentence)\n",
    "print(strip_sentence.lstrip())"
   ]
  },
  {
   "cell_type": "code",
   "execution_count": 5,
   "metadata": {},
   "outputs": [
    {
     "name": "stdout",
     "output_type": "stream",
     "text": [
      "there is space at the end\n",
      "there is space at the end\n"
     ]
    }
   ],
   "source": [
    "strip_sentence = \"there is space at the end\"\n",
    "print(strip_sentence)\n",
    "print(strip_sentence.rstrip())"
   ]
  },
  {
   "cell_type": "code",
   "execution_count": 6,
   "metadata": {},
   "outputs": [
    {
     "name": "stdout",
     "output_type": "stream",
     "text": [
      "555\n"
     ]
    }
   ],
   "source": [
    "percentnum = \"555%\"\n",
    "print(percentnum.rstrip(\"%\"))"
   ]
  },
  {
   "cell_type": "code",
   "execution_count": 7,
   "metadata": {},
   "outputs": [
    {
     "name": "stdout",
     "output_type": "stream",
     "text": [
      "  Trim Blanks\n",
      "Trim Blanks\n"
     ]
    }
   ],
   "source": [
    "bothends = \"  Trim Blanks\"\n",
    "print(bothends)\n",
    "print(bothends.strip())"
   ]
  },
  {
   "cell_type": "code",
   "execution_count": 12,
   "metadata": {},
   "outputs": [
    {
     "name": "stdout",
     "output_type": "stream",
     "text": [
      "55555\n"
     ]
    }
   ],
   "source": [
    "mixedstr = '****55555####'\n",
    "print(mixedstr.rstrip('#').lstrip('*'))\n",
    "\n",
    "# rstrip hilangin sesuatu di sebelah kiri\n",
    "# lstrip di sebelah kananya"
   ]
  },
  {
   "cell_type": "code",
   "execution_count": 9,
   "metadata": {},
   "outputs": [
    {
     "name": "stdout",
     "output_type": "stream",
     "text": [
      "number of people here: 10 people \n"
     ]
    }
   ],
   "source": [
    "mixedstr = \"10 people affected by Carona\"\n",
    "no_of_people = mixedstr[0:10]\n",
    "print(\"number of people here:\" , no_of_people)\n",
    "\n",
    "# 0 di mulai dari paling awal\n",
    "# dan :2 dua huruf dari awal maka yang keluar \"10\"\n",
    "#[0:2] 0 ke 2 maka \"10\". '1' dihitung 1"
   ]
  },
  {
   "cell_type": "markdown",
   "metadata": {},
   "source": [
    "## 10 PEOPLE AFFECTED BY CARONA\n",
    "     ||| || | | | ||\n",
    "### 01234 5 6 7 89....."
   ]
  },
  {
   "cell_type": "markdown",
   "metadata": {},
   "source": [
    "ketika di \"print\", out put\n",
    "### 10 people affected...\n",
    "     |||||\n",
    "     12345"
   ]
  },
  {
   "cell_type": "code",
   "execution_count": 10,
   "metadata": {},
   "outputs": [
    {
     "name": "stdout",
     "output_type": "stream",
     "text": [
      "ople \n"
     ]
    }
   ],
   "source": [
    "Rest_of_str = mixedstr[5:10]\n",
    "print(Rest_of_str)\n",
    "\n",
    "#2: maka dimulai dari spasi\n",
    "# :_ dihitung sampe seterusnya"
   ]
  },
  {
   "cell_type": "code",
   "execution_count": 13,
   "metadata": {},
   "outputs": [
    {
     "name": "stdout",
     "output_type": "stream",
     "text": [
      "le \n"
     ]
    }
   ],
   "source": [
    "# slicing  and dicling\n",
    "# it means \"teknik pilih data\"\n",
    "print(Rest_of_str[2:5])"
   ]
  },
  {
   "cell_type": "code",
   "execution_count": 2,
   "metadata": {},
   "outputs": [
    {
     "name": "stdout",
     "output_type": "stream",
     "text": [
      "Women\n"
     ]
    }
   ],
   "source": [
    "# Tulisan dalan bemtuk grup\n",
    "\n",
    "groupstr = \"10 states 5 bananas 3 Women\"\n",
    "fruit = groupstr [22:27]\n",
    "print(fruit)"
   ]
  },
  {
   "cell_type": "code",
   "execution_count": 20,
   "metadata": {},
   "outputs": [
    {
     "name": "stdout",
     "output_type": "stream",
     "text": [
      "10 states 5 bananas 3 Wom\n"
     ]
    }
   ],
   "source": [
    "print(groupstr[ :-2])"
   ]
  },
  {
   "cell_type": "code",
   "execution_count": 25,
   "metadata": {},
   "outputs": [
    {
     "name": "stdout",
     "output_type": "stream",
     "text": [
      "5 bananas 3 W\n"
     ]
    }
   ],
   "source": [
    "slice_str = groupstr[10:-4]\n",
    "print(slice_str)"
   ]
  },
  {
   "cell_type": "code",
   "execution_count": 6,
   "metadata": {},
   "outputs": [
    {
     "name": "stdout",
     "output_type": "stream",
     "text": [
      "258\n"
     ]
    }
   ],
   "source": [
    "nums_seq = '123456789'\n",
    "even_nums = nums_seq[1::3]\n",
    "print(even_nums)\n",
    "\n",
    "# 1 untuk nomor ke dua\n",
    "# 3 unutk nomor ke empat dan kelipatannya"
   ]
  },
  {
   "cell_type": "code",
   "execution_count": 7,
   "metadata": {},
   "outputs": [
    {
     "name": "stdout",
     "output_type": "stream",
     "text": [
      "13579\n"
     ]
    }
   ],
   "source": [
    "odd_nums = nums_seq[ :: 2]\n",
    "print(odd_nums)"
   ]
  },
  {
   "cell_type": "code",
   "execution_count": 11,
   "metadata": {},
   "outputs": [],
   "source": [
    "first_name = \"Rama\"\n",
    "last_name = 'Rao'\n",
    "\n",
    "#ini harus di shift+enter juga"
   ]
  },
  {
   "cell_type": "code",
   "execution_count": 12,
   "metadata": {},
   "outputs": [
    {
     "name": "stdout",
     "output_type": "stream",
     "text": [
      "Rama Rao\n"
     ]
    }
   ],
   "source": [
    "name = first_name + \" \" + last_name\n",
    "print(name)"
   ]
  },
  {
   "cell_type": "code",
   "execution_count": 13,
   "metadata": {},
   "outputs": [
    {
     "name": "stdout",
     "output_type": "stream",
     "text": [
      "('I am ', '40', ' years old')\n"
     ]
    }
   ],
   "source": [
    "my_age = 40\n",
    "#type(my_age)\n",
    "my_age_text = (\"I am \", str(my_age) , \" years old\")\n",
    "print(my_age_text)"
   ]
  },
  {
   "cell_type": "code",
   "execution_count": 18,
   "metadata": {},
   "outputs": [
    {
     "name": "stdout",
     "output_type": "stream",
     "text": [
      "Data Science using Training\n"
     ]
    }
   ],
   "source": [
    "A = \"Data\"\n",
    "B = \"Science\"\n",
    "C = \"Training\"\n",
    "\n",
    "print(\"{0} {1} using {2}\".format(A,B,C))"
   ]
  },
  {
   "cell_type": "code",
   "execution_count": 21,
   "metadata": {},
   "outputs": [
    {
     "ename": "TypeError",
     "evalue": "can only concatenate str (not \"tuple\") to str",
     "output_type": "error",
     "traceback": [
      "\u001b[1;31m---------------------------------------------------------------------------\u001b[0m",
      "\u001b[1;31mTypeError\u001b[0m                                 Traceback (most recent call last)",
      "\u001b[1;32m<ipython-input-21-38c1fa1af6ef>\u001b[0m in \u001b[0;36m<module>\u001b[1;34m\u001b[0m\n\u001b[0;32m      1\u001b[0m \u001b[1;31m#concoat and update\u001b[0m\u001b[1;33m\u001b[0m\u001b[1;33m\u001b[0m\u001b[1;33m\u001b[0m\u001b[0m\n\u001b[1;32m----> 2\u001b[1;33m \u001b[0mname\u001b[0m \u001b[1;33m+=\u001b[0m \u001b[1;34m' '\u001b[0m \u001b[1;33m+\u001b[0m \u001b[0mmy_age\u001b[0m\u001b[1;33m\u001b[0m\u001b[1;33m\u001b[0m\u001b[0m\n\u001b[0m\u001b[0;32m      3\u001b[0m \u001b[0mprint\u001b[0m\u001b[1;33m(\u001b[0m\u001b[0mname\u001b[0m\u001b[1;33m)\u001b[0m\u001b[1;33m\u001b[0m\u001b[1;33m\u001b[0m\u001b[0m\n",
      "\u001b[1;31mTypeError\u001b[0m: can only concatenate str (not \"tuple\") to str"
     ]
    }
   ],
   "source": [
    "#concoat and update\n",
    "name += ' ' + my_age\n",
    "print(name)"
   ]
  },
  {
   "cell_type": "code",
   "execution_count": null,
   "metadata": {},
   "outputs": [],
   "source": []
  },
  {
   "cell_type": "code",
   "execution_count": null,
   "metadata": {},
   "outputs": [],
   "source": []
  }
 ],
 "metadata": {
  "kernelspec": {
   "display_name": "Python 3",
   "language": "python",
   "name": "python3"
  },
  "language_info": {
   "codemirror_mode": {
    "name": "ipython",
    "version": 3
   },
   "file_extension": ".py",
   "mimetype": "text/x-python",
   "name": "python",
   "nbconvert_exporter": "python",
   "pygments_lexer": "ipython3",
   "version": "3.8.6"
  }
 },
 "nbformat": 4,
 "nbformat_minor": 4
}
